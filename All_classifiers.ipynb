{
 "cells": [
  {
   "cell_type": "code",
   "execution_count": 1,
   "id": "6ce134e7",
   "metadata": {},
   "outputs": [],
   "source": [
    "import pandas as pd\n",
    "import sklearn\n",
    "from sklearn.model_selection import train_test_split\n",
    "from sklearn import preprocessing\n",
    "from sklearn.metrics import confusion_matrix\n",
    "from sklearn.metrics import accuracy_score\n",
    "from sklearn.metrics import classification_report\n",
    "from sklearn.model_selection import KFold\n",
    "from sklearn.tree import DecisionTreeClassifier\n",
    "from sklearn.model_selection import cross_validate\n",
    "from sklearn.neural_network import MLPClassifier\n",
    "from sklearn.neighbors import KNeighborsClassifier\n",
    "from sklearn.ensemble import RandomForestClassifier\n",
    "from sklearn import svm , preprocessing\n",
    "from sklearn.ensemble import AdaBoostClassifier\n",
    "from sklearn.linear_model import LogisticRegression"
   ]
  },
  {
   "cell_type": "code",
   "execution_count": 2,
   "id": "649e2c39",
   "metadata": {},
   "outputs": [],
   "source": [
    "def mean_score(scoring):\n",
    "    return {i:j.mean() for i,j in scoring.items()}"
   ]
  },
  {
   "cell_type": "code",
   "execution_count": 5,
   "id": "7a53dd64",
   "metadata": {},
   "outputs": [
    {
     "data": {
      "text/html": [
       "<div>\n",
       "<style scoped>\n",
       "    .dataframe tbody tr th:only-of-type {\n",
       "        vertical-align: middle;\n",
       "    }\n",
       "\n",
       "    .dataframe tbody tr th {\n",
       "        vertical-align: top;\n",
       "    }\n",
       "\n",
       "    .dataframe thead th {\n",
       "        text-align: right;\n",
       "    }\n",
       "</style>\n",
       "<table border=\"1\" class=\"dataframe\">\n",
       "  <thead>\n",
       "    <tr style=\"text-align: right;\">\n",
       "      <th></th>\n",
       "      <th>having_IPhaving_IP_Address</th>\n",
       "      <th>URLURL_Length</th>\n",
       "      <th>Shortining_Service</th>\n",
       "      <th>having_At_Symbol</th>\n",
       "      <th>double_slash_redirecting</th>\n",
       "      <th>Prefix_Suffix</th>\n",
       "      <th>having_Sub_Domain</th>\n",
       "      <th>SSLfinal_State</th>\n",
       "      <th>Domain_registeration_length</th>\n",
       "      <th>Favicon</th>\n",
       "      <th>...</th>\n",
       "      <th>popUpWidnow</th>\n",
       "      <th>Iframe</th>\n",
       "      <th>age_of_domain</th>\n",
       "      <th>DNSRecord</th>\n",
       "      <th>web_traffic</th>\n",
       "      <th>Page_Rank</th>\n",
       "      <th>Google_Index</th>\n",
       "      <th>Links_pointing_to_page</th>\n",
       "      <th>Statistical_report</th>\n",
       "      <th>Result</th>\n",
       "    </tr>\n",
       "    <tr>\n",
       "      <th>index</th>\n",
       "      <th></th>\n",
       "      <th></th>\n",
       "      <th></th>\n",
       "      <th></th>\n",
       "      <th></th>\n",
       "      <th></th>\n",
       "      <th></th>\n",
       "      <th></th>\n",
       "      <th></th>\n",
       "      <th></th>\n",
       "      <th></th>\n",
       "      <th></th>\n",
       "      <th></th>\n",
       "      <th></th>\n",
       "      <th></th>\n",
       "      <th></th>\n",
       "      <th></th>\n",
       "      <th></th>\n",
       "      <th></th>\n",
       "      <th></th>\n",
       "      <th></th>\n",
       "    </tr>\n",
       "  </thead>\n",
       "  <tbody>\n",
       "    <tr>\n",
       "      <th>129</th>\n",
       "      <td>1</td>\n",
       "      <td>-1</td>\n",
       "      <td>1</td>\n",
       "      <td>1</td>\n",
       "      <td>1</td>\n",
       "      <td>1</td>\n",
       "      <td>0</td>\n",
       "      <td>-1</td>\n",
       "      <td>1</td>\n",
       "      <td>1</td>\n",
       "      <td>...</td>\n",
       "      <td>1</td>\n",
       "      <td>1</td>\n",
       "      <td>1</td>\n",
       "      <td>1</td>\n",
       "      <td>-1</td>\n",
       "      <td>-1</td>\n",
       "      <td>1</td>\n",
       "      <td>1</td>\n",
       "      <td>1</td>\n",
       "      <td>1</td>\n",
       "    </tr>\n",
       "    <tr>\n",
       "      <th>1622</th>\n",
       "      <td>1</td>\n",
       "      <td>-1</td>\n",
       "      <td>1</td>\n",
       "      <td>1</td>\n",
       "      <td>1</td>\n",
       "      <td>-1</td>\n",
       "      <td>-1</td>\n",
       "      <td>-1</td>\n",
       "      <td>1</td>\n",
       "      <td>1</td>\n",
       "      <td>...</td>\n",
       "      <td>1</td>\n",
       "      <td>1</td>\n",
       "      <td>-1</td>\n",
       "      <td>-1</td>\n",
       "      <td>0</td>\n",
       "      <td>-1</td>\n",
       "      <td>1</td>\n",
       "      <td>0</td>\n",
       "      <td>1</td>\n",
       "      <td>-1</td>\n",
       "    </tr>\n",
       "    <tr>\n",
       "      <th>3818</th>\n",
       "      <td>1</td>\n",
       "      <td>-1</td>\n",
       "      <td>1</td>\n",
       "      <td>1</td>\n",
       "      <td>1</td>\n",
       "      <td>1</td>\n",
       "      <td>0</td>\n",
       "      <td>1</td>\n",
       "      <td>-1</td>\n",
       "      <td>1</td>\n",
       "      <td>...</td>\n",
       "      <td>1</td>\n",
       "      <td>1</td>\n",
       "      <td>-1</td>\n",
       "      <td>1</td>\n",
       "      <td>0</td>\n",
       "      <td>-1</td>\n",
       "      <td>1</td>\n",
       "      <td>0</td>\n",
       "      <td>1</td>\n",
       "      <td>1</td>\n",
       "    </tr>\n",
       "    <tr>\n",
       "      <th>9033</th>\n",
       "      <td>-1</td>\n",
       "      <td>-1</td>\n",
       "      <td>1</td>\n",
       "      <td>1</td>\n",
       "      <td>1</td>\n",
       "      <td>-1</td>\n",
       "      <td>0</td>\n",
       "      <td>-1</td>\n",
       "      <td>-1</td>\n",
       "      <td>1</td>\n",
       "      <td>...</td>\n",
       "      <td>-1</td>\n",
       "      <td>1</td>\n",
       "      <td>1</td>\n",
       "      <td>1</td>\n",
       "      <td>1</td>\n",
       "      <td>-1</td>\n",
       "      <td>1</td>\n",
       "      <td>1</td>\n",
       "      <td>1</td>\n",
       "      <td>1</td>\n",
       "    </tr>\n",
       "    <tr>\n",
       "      <th>8193</th>\n",
       "      <td>1</td>\n",
       "      <td>-1</td>\n",
       "      <td>-1</td>\n",
       "      <td>1</td>\n",
       "      <td>-1</td>\n",
       "      <td>-1</td>\n",
       "      <td>-1</td>\n",
       "      <td>-1</td>\n",
       "      <td>1</td>\n",
       "      <td>1</td>\n",
       "      <td>...</td>\n",
       "      <td>1</td>\n",
       "      <td>1</td>\n",
       "      <td>1</td>\n",
       "      <td>1</td>\n",
       "      <td>-1</td>\n",
       "      <td>-1</td>\n",
       "      <td>1</td>\n",
       "      <td>1</td>\n",
       "      <td>1</td>\n",
       "      <td>-1</td>\n",
       "    </tr>\n",
       "  </tbody>\n",
       "</table>\n",
       "<p>5 rows × 31 columns</p>\n",
       "</div>"
      ],
      "text/plain": [
       "       having_IPhaving_IP_Address  URLURL_Length  Shortining_Service  \\\n",
       "index                                                                  \n",
       "129                             1             -1                   1   \n",
       "1622                            1             -1                   1   \n",
       "3818                            1             -1                   1   \n",
       "9033                           -1             -1                   1   \n",
       "8193                            1             -1                  -1   \n",
       "\n",
       "       having_At_Symbol  double_slash_redirecting  Prefix_Suffix  \\\n",
       "index                                                              \n",
       "129                   1                         1              1   \n",
       "1622                  1                         1             -1   \n",
       "3818                  1                         1              1   \n",
       "9033                  1                         1             -1   \n",
       "8193                  1                        -1             -1   \n",
       "\n",
       "       having_Sub_Domain  SSLfinal_State  Domain_registeration_length  \\\n",
       "index                                                                   \n",
       "129                    0              -1                            1   \n",
       "1622                  -1              -1                            1   \n",
       "3818                   0               1                           -1   \n",
       "9033                   0              -1                           -1   \n",
       "8193                  -1              -1                            1   \n",
       "\n",
       "       Favicon  ...  popUpWidnow  Iframe  age_of_domain  DNSRecord  \\\n",
       "index           ...                                                  \n",
       "129          1  ...            1       1              1          1   \n",
       "1622         1  ...            1       1             -1         -1   \n",
       "3818         1  ...            1       1             -1          1   \n",
       "9033         1  ...           -1       1              1          1   \n",
       "8193         1  ...            1       1              1          1   \n",
       "\n",
       "       web_traffic  Page_Rank  Google_Index  Links_pointing_to_page  \\\n",
       "index                                                                 \n",
       "129             -1         -1             1                       1   \n",
       "1622             0         -1             1                       0   \n",
       "3818             0         -1             1                       0   \n",
       "9033             1         -1             1                       1   \n",
       "8193            -1         -1             1                       1   \n",
       "\n",
       "       Statistical_report  Result  \n",
       "index                              \n",
       "129                     1       1  \n",
       "1622                    1      -1  \n",
       "3818                    1       1  \n",
       "9033                    1       1  \n",
       "8193                    1      -1  \n",
       "\n",
       "[5 rows x 31 columns]"
      ]
     },
     "execution_count": 5,
     "metadata": {},
     "output_type": "execute_result"
    }
   ],
   "source": [
    "# To load dataset\n",
    "\n",
    "df = pd.read_csv(\"https://raw.githubusercontent.com/fafal-abnir/phishing_detection/master/dataset.csv\",index_col=0)\n",
    "df = sklearn.utils.shuffle(df)\n",
    "X = df.drop(\"Result\",axis=1).values\n",
    "X = preprocessing.scale(X)\n",
    "y = df['Result'].values\n",
    "df.head()"
   ]
  },
  {
   "cell_type": "code",
   "execution_count": 6,
   "id": "56fde0b8",
   "metadata": {},
   "outputs": [],
   "source": [
    "#To evaluate the metrics using 10 fold-cross validation\n",
    "\n",
    "scoring = {'accuracy': 'accuracy',\n",
    "           'recall': 'recall',\n",
    "           'precision': 'precision',\n",
    "           'f1': 'f1'}\n",
    "fold_count=10"
   ]
  },
  {
   "cell_type": "code",
   "execution_count": 7,
   "id": "45ff6d38",
   "metadata": {},
   "outputs": [
    {
     "name": "stdout",
     "output_type": "stream",
     "text": [
      "{'fit_time': 2.665318822860718, 'score_time': 0.11417562961578369, 'test_accuracy': 0.9275442056082414, 'test_recall': 0.9459146341463415, 'test_precision': 0.9257383592763111, 'test_f1': 0.935690597998386}\n",
      "{'fit_time': 2.189408779144287, 'score_time': 0.17542879581451415, 'test_accuracy': 0.9507015620269529, 'test_recall': 0.9710899060289304, 'test_precision': 0.9422282405947001, 'test_f1': 0.9564267525408949}\n",
      "{'fit_time': 2.564968800544739, 'score_time': 0.3564657688140869, 'test_accuracy': 0.9520580461980312, 'test_recall': 0.9688158589378102, 'test_precision': 0.9464062370694087, 'test_f1': 0.95747213610874}\n",
      "{'fit_time': 2.3182525634765625, 'score_time': 0.1924929141998291, 'test_accuracy': 0.8283149092158771, 'test_recall': 0.8471684616196811, 'test_precision': 0.8451870537575509, 'test_f1': 0.8460842041921323}\n"
     ]
    }
   ],
   "source": [
    "# Support Vector Machine\n",
    "\n",
    "# Linear\n",
    "linear_clf = svm.SVC(kernel='linear')\n",
    "cross_val_scores = cross_validate(linear_clf, X, y, cv=fold_count, scoring=scoring)\n",
    "linear_svc_clf_score = mean_score(cross_val_scores)\n",
    "print(linear_svc_clf_score)\n",
    "\n",
    "#Polynomial\n",
    "poly_clf = svm.SVC(kernel='poly')\n",
    "cross_val_scores = cross_validate(poly_clf, X, y, cv=fold_count, scoring=scoring)\n",
    "poly_svc_clf_score = mean_score(cross_val_scores)\n",
    "print(poly_svc_clf_score)\n",
    "\n",
    "#Radial Basis Function\n",
    "rbf_clf = svm.SVC(kernel='rbf')\n",
    "cross_val_scores = cross_validate(rbf_clf, X, y, cv=fold_count, scoring=scoring)\n",
    "rbf_svc_clf_score = mean_score(cross_val_scores)\n",
    "print(rbf_svc_clf_score)\n",
    "\n",
    "#Sigmoid\n",
    "sigmoid_clf = svm.SVC(kernel='sigmoid')\n",
    "cross_val_scores = cross_validate(sigmoid_clf, X, y, cv=fold_count, scoring=scoring)\n",
    "sigmoid_svc_clf_score = mean_score(cross_val_scores)\n",
    "print(sigmoid_svc_clf_score)"
   ]
  },
  {
   "cell_type": "code",
   "execution_count": 8,
   "id": "28d1a1e5",
   "metadata": {},
   "outputs": [
    {
     "name": "stdout",
     "output_type": "stream",
     "text": [
      "{'fit_time': 0.04031848907470703, 'score_time': 0.003963780403137207, 'test_accuracy': 0.9269103123235662, 'test_recall': 0.9438021328265229, 'test_precision': 0.9264829339155428, 'test_f1': 0.9350247046371776}\n"
     ]
    }
   ],
   "source": [
    "#Logistic Regression\n",
    "\n",
    "logistic_clf=LogisticRegression(random_state=1)\n",
    "cross_val_scores = cross_validate(logistic_clf, X, y, cv=fold_count, scoring=scoring)\n",
    "logistic_clf_score = mean_score(cross_val_scores)\n",
    "print(logistic_clf_score)"
   ]
  },
  {
   "cell_type": "code",
   "execution_count": 9,
   "id": "68050b15",
   "metadata": {},
   "outputs": [
    {
     "name": "stdout",
     "output_type": "stream",
     "text": [
      "{'fit_time': 11.703775358200073, 'score_time': 0.004485607147216797, 'test_accuracy': 0.9703304885732287, 'test_recall': 0.97888554534896, 'test_precision': 0.9682226161801186, 'test_f1': 0.9735145336889334}\n"
     ]
    }
   ],
   "source": [
    "#Neural Network\n",
    "\n",
    "neural_clf=MLPClassifier(hidden_layer_sizes=(33,),max_iter=500)\n",
    "cross_val_scores = cross_validate(neural_clf, X, y, cv=fold_count, scoring=scoring)\n",
    "neural_clf_score = mean_score(cross_val_scores)\n",
    "print(neural_clf_score)"
   ]
  },
  {
   "cell_type": "code",
   "execution_count": 10,
   "id": "1bafebfa",
   "metadata": {},
   "outputs": [
    {
     "name": "stdout",
     "output_type": "stream",
     "text": [
      "{'fit_time': 0.5757969856262207, 'score_time': 0.027023959159851074, 'test_accuracy': 0.9729537774213872, 'test_recall': 0.9816452856087002, 'test_precision': 0.9701968498155462, 'test_f1': 0.9758604184981138}\n"
     ]
    }
   ],
   "source": [
    "#Random Forest\n",
    "\n",
    "rforest_clf=RandomForestClassifier()\n",
    "cross_val_scores = cross_validate(rforest_clf, X, y, cv=fold_count, scoring=scoring)\n",
    "rforest_clf_score = mean_score(cross_val_scores)\n",
    "print(rforest_clf_score)"
   ]
  },
  {
   "cell_type": "code",
   "execution_count": 11,
   "id": "9e0a8dc2",
   "metadata": {},
   "outputs": [
    {
     "name": "stdout",
     "output_type": "stream",
     "text": [
      "{'fit_time': 0.31429741382598875, 'score_time': 0.013724303245544434, 'test_accuracy': 0.9366796494644596, 'test_recall': 0.954522753669095, 'test_precision': 0.9333627671864626, 'test_f1': 0.9438085434991758}\n"
     ]
    }
   ],
   "source": [
    "#Ada-Boost\n",
    "\n",
    "adaboost_clf=AdaBoostClassifier()\n",
    "cross_val_scores = cross_validate(adaboost_clf, X, y, cv=fold_count, scoring=scoring)\n",
    "adaboost_clf_score = mean_score(cross_val_scores)\n",
    "print(adaboost_clf_score)"
   ]
  },
  {
   "cell_type": "code",
   "execution_count": 12,
   "id": "c945306f",
   "metadata": {},
   "outputs": [
    {
     "name": "stdout",
     "output_type": "stream",
     "text": [
      "{'fit_time': 0.021470141410827637, 'score_time': 0.0031986474990844727, 'test_accuracy': 0.9650845654717584, 'test_recall': 0.9683280540597614, 'test_precision': 0.9690260835542478, 'test_f1': 0.9686417678491177}\n"
     ]
    }
   ],
   "source": [
    "#Decision Tree\n",
    "\n",
    "dtree_clf=DecisionTreeClassifier()\n",
    "cross_val_scores = cross_validate(dtree_clf, X, y, cv=fold_count, scoring=scoring)\n",
    "dtree_score = mean_score(cross_val_scores)\n",
    "print(dtree_score)"
   ]
  },
  {
   "cell_type": "code",
   "execution_count": 13,
   "id": "65791b9f",
   "metadata": {},
   "outputs": [
    {
     "name": "stdout",
     "output_type": "stream",
     "text": [
      "{'fit_time': 0.0020217418670654295, 'score_time': 0.24689629077911376, 'test_accuracy': 0.9491644915025408, 'test_recall': 0.9589077182979622, 'test_precision': 0.9503933502196666, 'test_f1': 0.9545916002232705}\n"
     ]
    }
   ],
   "source": [
    "#K Nearest Neighbours\n",
    "\n",
    "KNeighbors_clf=KNeighborsClassifier(3)\n",
    "cross_val_scores = cross_validate(KNeighbors_clf, X, y, cv=fold_count, scoring=scoring)\n",
    "KNeighbors_clf_score = mean_score(cross_val_scores)\n",
    "print(KNeighbors_clf_score)"
   ]
  },
  {
   "cell_type": "code",
   "execution_count": null,
   "id": "915969af",
   "metadata": {},
   "outputs": [],
   "source": []
  }
 ],
 "metadata": {
  "kernelspec": {
   "display_name": "Python 3 (ipykernel)",
   "language": "python",
   "name": "python3"
  },
  "language_info": {
   "codemirror_mode": {
    "name": "ipython",
    "version": 3
   },
   "file_extension": ".py",
   "mimetype": "text/x-python",
   "name": "python",
   "nbconvert_exporter": "python",
   "pygments_lexer": "ipython3",
   "version": "3.9.7"
  }
 },
 "nbformat": 4,
 "nbformat_minor": 5
}
